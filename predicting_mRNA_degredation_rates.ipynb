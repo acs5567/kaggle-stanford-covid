{
 "cells": [
  {
   "cell_type": "code",
   "execution_count": 1,
   "metadata": {},
   "outputs": [],
   "source": [
    "import pandas as pd\n",
    "import numpy as np\n",
    "import matplotlib.pyplot as plt\n",
    "import json\n",
    "import plotly.express as px\n",
    "from tensorflow.keras import layers\n",
    "import tensorflow as tf\n",
    "from sklearn.model_selection import train_test_split\n",
    "\n",
    "from sklearn.manifold import TSNE"
   ]
  },
  {
   "cell_type": "code",
   "execution_count": 8,
   "metadata": {},
   "outputs": [],
   "source": [
    "df = pd.read_json('./train.json', lines=True).drop('index', axis=1)\n",
    "df = df.query(\"signal_to_noise >= 1\")\n",
    "test_df = pd.read_json('./test.json', lines=True).drop('index', axis=1)\n",
    "\n",
    "# preprocessing\n",
    "\n",
    "measured_cols = ['reactivity_error', 'deg_error_Mg_pH10', 'deg_error_pH10', 'deg_error_Mg_50C',\n",
    "            'deg_error_50C', 'reactivity', 'deg_Mg_pH10', 'deg_pH10', 'deg_Mg_50C', 'deg_50C']\n",
    "\n",
    "for col in measured_cols:\n",
    "    df[col] = df[col].apply(lambda x: np.array(x))\n",
    "\n",
    "# visualizations\n",
    "\n",
    "pred_cols = ['reactivity','deg_Mg_pH10','deg_pH10','deg_50C','deg_Mg_50C']\n",
    "\n",
    "input_cols = ['sequence', 'structure', 'predicted_loop_type']\n"
   ]
  },
  {
   "cell_type": "markdown",
   "metadata": {},
   "source": [
    "# Feature Extraction\n",
    "\n",
    "- front, middle, end flag ( what is the placement of the amino in its codon )\n",
    "\n",
    "### TODO\n",
    "\n",
    "- create codon mapping opposed to character mapping\n",
    "\n",
    "- ammend character mapping to remove bias introduced by the simple application of enumerated mapping\n",
    "\n",
    "- experiment with one hot encoding and subsequent decomposition\n"
   ]
  },
  {
   "cell_type": "code",
   "execution_count": 9,
   "metadata": {},
   "outputs": [],
   "source": [
    "\n",
    "def create_input(temp):\n",
    "    \n",
    "    # create features\n",
    "    \n",
    "    map_dict = {'(': 0, ')': 1, '.': 2, 'A': 3, 'C': 4, 'G': 5, 'U': 6, 'B': 7,\n",
    "              'E': 8, 'H': 9, 'I': 10, 'M': 11, 'S': 12, 'X': 13}\n",
    "    \n",
    "    for col in ['sequence', 'structure', 'predicted_loop_type']:\n",
    "        temp[col] = temp[col].apply(lambda x: np.array([map_dict[i] for i in x[:68]]))\n",
    "  \n",
    "    def amino_pos(x):\n",
    "        pos_list = []\n",
    "        \n",
    "        for i,v in enumerate(x):\n",
    "            if i % 3 == 0:\n",
    "                pos_list.append('start')\n",
    "            if i % 3 == 1:\n",
    "                pos_list.append('middle')\n",
    "            if i % 3 == 2:\n",
    "                pos_list.append('end')\n",
    "                \n",
    "        return pos_list\n",
    "\n",
    "    temp['position'] = np.nan\n",
    "    temp.position = temp.sequence.apply(amino_pos)\n",
    "    \n",
    "    for col in ['reactivity_error','deg_error_Mg_pH10','deg_error_pH10','deg_error_Mg_50C','deg_error_50C']:\n",
    "        temp[col] = temp[col].apply(lambda x: np.mean(x))\n",
    "        \n",
    "    temp = temp[(((temp.reactivity_error >= 0) & (temp.reactivity_error <= 0.4)) & \n",
    "                    ((temp.deg_error_Mg_pH10 >= 0) & (temp.deg_error_Mg_pH10 <= 0.4)) & \n",
    "                   ((temp.deg_error_pH10 >= 0) & (temp.deg_error_pH10 <= 0.4)) & \n",
    "                   ((temp.deg_error_Mg_50C >= 0) & (temp.deg_error_Mg_50C <= 0.4)) & \n",
    "                   ((temp.deg_error_50C >= 0) & (temp.deg_error_50C <= 0.4)))]\n",
    "    \n",
    "    # Start exploding\n",
    "    \n",
    "    storage = temp.copy().drop('sequence', axis=1)\n",
    "    \n",
    "    holder = temp.explode('sequence').drop(['structure', 'predicted_loop_type'], axis=1)\n",
    "\n",
    "    del temp\n",
    "    \n",
    "    for col in ['structure', 'predicted_loop_type','corrected_reactivity','corrected_deg_Mg_pH10','corrected_deg_pH10',\n",
    "             'corrected_deg_50C','corrected_deg_Mg_50C', 'position']:\n",
    "        holder[col] = storage[col].explode(col).values\n",
    "        \n",
    "    holder = holder.reset_index(drop=True)\n",
    "\n",
    "    holder = pd.concat([holder,pd.get_dummies(holder['position'])], axis=1)\n",
    "    \n",
    "    holder = holder[pred_cols+['sequence', 'structure', 'predicted_loop_type','start','middle','end']].astype(float)\n",
    "\n",
    "    train_inputs = holder[['sequence', 'structure', 'predicted_loop_type','start','middle','end']].values.reshape(len(storage),68,6)\n",
    "    train_labels = holder[pred_cols].values.reshape(len(storage),68,5)\n",
    "\n",
    "    return train_inputs, train_labels"
   ]
  },
  {
   "cell_type": "code",
   "execution_count": 10,
   "metadata": {},
   "outputs": [],
   "source": [
    "train_inputs, train_labels = create_input(df)"
   ]
  },
  {
   "cell_type": "code",
   "execution_count": 11,
   "metadata": {},
   "outputs": [],
   "source": [
    "def create_test_input(temp, seq_len):\n",
    "    # create features\n",
    "    \n",
    "    map_dict = {'(': 0, ')': 1, '.': 2, 'A': 3, 'C': 4, 'G': 5, 'U': 6, 'B': 7,\n",
    "              'E': 8, 'H': 9, 'I': 10, 'M': 11, 'S': 12, 'X': 13}\n",
    "    \n",
    "    for col in ['sequence', 'structure', 'predicted_loop_type']:\n",
    "        temp[col] = temp[col].apply(lambda x: np.array([map_dict[i] for i in x]))\n",
    "\n",
    "#     temp['order'] = np.nan\n",
    "    \n",
    "#     def list_len(x):\n",
    "#         return np.arange(1,len(x.sequence)+1,1)\n",
    "    \n",
    "#     temp.order = temp.apply(list_len, axis=1)\n",
    "    \n",
    "    def amino_pos(x):\n",
    "        pos_list = []\n",
    "        \n",
    "        for i,v in enumerate(x):\n",
    "            if i % 3 == 0:\n",
    "                pos_list.append('start')\n",
    "            if i % 3 == 1:\n",
    "                pos_list.append('middle')\n",
    "            if i % 3 == 2:\n",
    "                pos_list.append('end')\n",
    "                \n",
    "        return pos_list\n",
    "\n",
    "    temp['position'] = np.nan\n",
    "    temp.position = temp.sequence.apply(amino_pos)\n",
    "    \n",
    "    # Start exploding\n",
    "    \n",
    "    storage = temp.copy().drop('sequence', axis=1)\n",
    "    \n",
    "    holder = temp.explode('sequence').drop(['structure', 'predicted_loop_type'], axis=1)\n",
    "\n",
    "    del temp\n",
    "    \n",
    "    for col in ['structure', 'predicted_loop_type','position']:\n",
    "        holder[col] = storage[col].explode(col).values\n",
    "        \n",
    "    holder = holder.reset_index(drop=True)\n",
    "    \n",
    "    holder = pd.concat([holder,pd.get_dummies(holder['position'])], axis=1)\n",
    "    \n",
    "    holder = holder[['sequence', 'structure', 'predicted_loop_type','start','middle','end']].astype(float)\n",
    "\n",
    "    train_inputs = holder[['sequence', 'structure', 'predicted_loop_type','start','middle','end']].values.reshape(len(storage),seq_len,6)\n",
    "    \n",
    "    return train_inputs"
   ]
  },
  {
   "cell_type": "markdown",
   "metadata": {},
   "source": [
    "# Build Bi-directional GRU with MCRMSE as loss function\n",
    "\n",
    "- LSTM had no benifit, would collapse after a few epochs with a loss of astronomical proportions.\n",
    "\n",
    "- SimpleRNN provided no additional insight over GRU\n",
    "\n",
    "- GRU with exponential linear unit activation performed best to date. Initially layers were 'too far' apart, closed the gap by introducing new layers. with smaller step sizes between them. This helped get below 0.3 MCRMSE. \n",
    "\n",
    "- Want to experiment with more feed forward layers amongst the GRU layers, as well as other kernel initializations. Although, I am not sure any would outperform the orthagonal initilization. Starting with zeros and increasing epochs, may come close to or perform as well, I think. "
   ]
  },
  {
   "cell_type": "code",
   "execution_count": 35,
   "metadata": {},
   "outputs": [],
   "source": [
    "def MCRMSE(y_true, y_pred):\n",
    "    colwise_mse = tf.reduce_mean(tf.square(y_true - y_pred), axis=1)\n",
    "    return tf.reduce_mean(tf.sqrt(colwise_mse), axis=1)\n",
    "\n",
    "def build_model(seq_len, pred_len, feats_len, embed_size=108, dropout=0.25, sp_dropout=0.25,  embed_dim=136):\n",
    "    \n",
    "    inputs = layers.Input(shape=(seq_len, feats_len))\n",
    "\n",
    "    embed = layers.Embedding(input_dim=embed_size, output_dim=embed_dim)(inputs)\n",
    "\n",
    "    hidden = tf.reshape(\n",
    "        embed, shape=(-1, embed.shape[1],  embed.shape[2] * embed.shape[3])\n",
    "    )\n",
    "\n",
    "#     hidden = layers.SpatialDropout1D(sp_dropout)(hidden)\n",
    "\n",
    "    hidden = layers.Bidirectional(layers.GRU(\n",
    "            200, activation='elu', dropout=dropout, return_sequences=True, kernel_initializer='orthogonal'))(hidden)\n",
    "    \n",
    "    hidden = layers.Bidirectional(layers.GRU(\n",
    "            300, activation='elu', dropout=dropout, return_sequences=True, kernel_initializer='orthogonal'))(hidden)\n",
    "    \n",
    "    hidden = layers.Bidirectional(layers.GRU(\n",
    "            500, activation='elu', dropout=dropout, return_sequences=True, kernel_initializer='orthogonal'))(hidden)\n",
    "    \n",
    "    hidden = layers.Bidirectional(layers.GRU(\n",
    "            300, activation='elu', dropout=dropout, return_sequences=True, kernel_initializer='orthogonal'))(hidden)\n",
    "    \n",
    "    hidden = layers.Bidirectional(layers.GRU(\n",
    "            150, activation='elu', dropout=dropout, return_sequences=True, kernel_initializer='orthogonal'))(hidden)\n",
    "    \n",
    "    # Since we are only making predictions on the first part of each sequence, \n",
    "    # we have to truncate it\n",
    "#     truncated = hidden[:, :pred_len]\n",
    "#     truncated = layers.Dense(68, activation='elu')(hidden)\n",
    "\n",
    "    out = layers.Dense(5, activation='elu')(hidden)\n",
    "\n",
    "    model = tf.keras.Model(inputs=inputs, outputs=out)\n",
    "    model.compile(tf.optimizers.Adam(lr=0.001), loss=MCRMSE)\n",
    "\n",
    "#     model.summary()\n",
    "    \n",
    "    return model\n",
    "\n",
    "\n"
   ]
  },
  {
   "cell_type": "code",
   "execution_count": 36,
   "metadata": {
    "scrolled": true
   },
   "outputs": [
    {
     "name": "stdout",
     "output_type": "stream",
     "text": [
      "Train on 1581 samples, validate on 396 samples\n",
      "Epoch 1/60\n",
      "1581/1581 [==============================] - 31s 20ms/sample - loss: 0.6537 - val_loss: 0.4561\n",
      "Epoch 2/60\n",
      "1581/1581 [==============================] - 21s 13ms/sample - loss: 0.4577 - val_loss: 0.3932\n",
      "Epoch 3/60\n",
      "1581/1581 [==============================] - 34s 22ms/sample - loss: 0.4100 - val_loss: 0.3772\n",
      "Epoch 4/60\n",
      "1581/1581 [==============================] - 57s 36ms/sample - loss: 0.3921 - val_loss: 0.3702\n",
      "Epoch 5/60\n",
      "1581/1581 [==============================] - 21s 13ms/sample - loss: 0.3831 - val_loss: 0.3624\n",
      "Epoch 6/60\n",
      "1581/1581 [==============================] - 20s 13ms/sample - loss: 0.3777 - val_loss: 0.3585\n",
      "Epoch 7/60\n",
      "1581/1581 [==============================] - 20s 13ms/sample - loss: 0.3717 - val_loss: 0.3540\n",
      "Epoch 8/60\n",
      "1581/1581 [==============================] - 26s 16ms/sample - loss: 0.3622 - val_loss: 0.3465\n",
      "Epoch 9/60\n",
      "1581/1581 [==============================] - 56s 36ms/sample - loss: 0.3549 - val_loss: 0.3435\n",
      "Epoch 10/60\n",
      "1581/1581 [==============================] - 19s 12ms/sample - loss: 0.3545 - val_loss: 0.3450\n",
      "Epoch 11/60\n",
      "1581/1581 [==============================] - 18s 12ms/sample - loss: 0.3513 - val_loss: 0.3367\n",
      "Epoch 12/60\n",
      "1581/1581 [==============================] - 18s 12ms/sample - loss: 0.3457 - val_loss: 0.3332\n",
      "Epoch 13/60\n",
      "1581/1581 [==============================] - 19s 12ms/sample - loss: 0.3433 - val_loss: 0.3325\n",
      "Epoch 14/60\n",
      "1581/1581 [==============================] - 20s 13ms/sample - loss: 0.3403 - val_loss: 0.3297\n",
      "Epoch 15/60\n",
      "1581/1581 [==============================] - 21s 14ms/sample - loss: 0.3383 - val_loss: 0.3271\n",
      "Epoch 16/60\n",
      "1581/1581 [==============================] - 61s 39ms/sample - loss: 0.3328 - val_loss: 0.3243\n",
      "Epoch 17/60\n",
      "1581/1581 [==============================] - 20s 12ms/sample - loss: 0.3300 - val_loss: 0.3181\n",
      "Epoch 18/60\n",
      "1581/1581 [==============================] - 18s 12ms/sample - loss: 0.3267 - val_loss: 0.3213\n",
      "Epoch 19/60\n",
      "1581/1581 [==============================] - 18s 12ms/sample - loss: 0.3223 - val_loss: 0.3093\n",
      "Epoch 20/60\n",
      "1581/1581 [==============================] - 19s 12ms/sample - loss: 0.3154 - val_loss: 0.3045\n",
      "Epoch 21/60\n",
      "1581/1581 [==============================] - 21s 13ms/sample - loss: 0.3112 - val_loss: 0.3033\n",
      "Epoch 22/60\n",
      "1581/1581 [==============================] - 64s 40ms/sample - loss: 0.3060 - val_loss: 0.2935\n",
      "Epoch 23/60\n",
      "1581/1581 [==============================] - 34s 22ms/sample - loss: 0.3022 - val_loss: 0.2910\n",
      "Epoch 24/60\n",
      "1581/1581 [==============================] - 18s 12ms/sample - loss: 0.2964 - val_loss: 0.2838\n",
      "Epoch 25/60\n",
      "1581/1581 [==============================] - 18s 12ms/sample - loss: 0.2919 - val_loss: 0.2820\n",
      "Epoch 26/60\n",
      "1581/1581 [==============================] - 18s 12ms/sample - loss: 0.2878 - val_loss: 0.2785\n",
      "Epoch 27/60\n",
      "1581/1581 [==============================] - 19s 12ms/sample - loss: 0.2842 - val_loss: 0.2761\n",
      "Epoch 28/60\n",
      "1581/1581 [==============================] - 26s 16ms/sample - loss: 0.2804 - val_loss: 0.2718\n",
      "Epoch 29/60\n",
      "1581/1581 [==============================] - 45s 29ms/sample - loss: 0.2754 - val_loss: 0.2686\n",
      "Epoch 30/60\n",
      "1581/1581 [==============================] - 19s 12ms/sample - loss: 0.2716 - val_loss: 0.2664\n",
      "Epoch 31/60\n",
      "1581/1581 [==============================] - 18s 12ms/sample - loss: 0.2683 - val_loss: 0.2656\n",
      "Epoch 32/60\n",
      "1581/1581 [==============================] - 20s 12ms/sample - loss: 0.2665 - val_loss: 0.2659\n",
      "Epoch 33/60\n",
      "1581/1581 [==============================] - 52s 33ms/sample - loss: 0.2628 - val_loss: 0.2604\n",
      "Epoch 34/60\n",
      "1581/1581 [==============================] - 22s 14ms/sample - loss: 0.2595 - val_loss: 0.2564\n",
      "Epoch 35/60\n",
      "1581/1581 [==============================] - 37s 23ms/sample - loss: 0.2564 - val_loss: 0.2551\n",
      "Epoch 36/60\n",
      "1581/1581 [==============================] - 78s 50ms/sample - loss: 0.2534 - val_loss: 0.2538\n",
      "Epoch 37/60\n",
      "1581/1581 [==============================] - 54s 34ms/sample - loss: 0.2501 - val_loss: 0.2507\n",
      "Epoch 38/60\n",
      "1581/1581 [==============================] - 20s 13ms/sample - loss: 0.2473 - val_loss: 0.2515\n",
      "Epoch 39/60\n",
      "1581/1581 [==============================] - 20s 13ms/sample - loss: 0.2465 - val_loss: 0.2517\n",
      "Epoch 40/60\n",
      "1581/1581 [==============================] - 21s 13ms/sample - loss: 0.2413 - val_loss: 0.2477\n",
      "Epoch 41/60\n",
      "1581/1581 [==============================] - 36s 23ms/sample - loss: 0.2375 - val_loss: 0.2462\n",
      "Epoch 42/60\n",
      "1581/1581 [==============================] - 47s 30ms/sample - loss: 0.2370 - val_loss: 0.2450\n",
      "Epoch 43/60\n",
      "1581/1581 [==============================] - 20s 13ms/sample - loss: 0.2363 - val_loss: 0.2450\n",
      "Epoch 44/60\n",
      "1581/1581 [==============================] - 20s 13ms/sample - loss: 0.2357 - val_loss: 0.2447\n",
      "Epoch 45/60\n",
      "1581/1581 [==============================] - 20s 13ms/sample - loss: 0.2351 - val_loss: 0.2435\n",
      "Epoch 46/60\n",
      "1581/1581 [==============================] - 30s 19ms/sample - loss: 0.2349 - val_loss: 0.2447\n",
      "Epoch 47/60\n",
      "1581/1581 [==============================] - 58s 37ms/sample - loss: 0.2344 - val_loss: 0.2438\n",
      "Epoch 48/60\n",
      "1581/1581 [==============================] - 35s 22ms/sample - loss: 0.2337 - val_loss: 0.2439\n",
      "Epoch 49/60\n",
      "1581/1581 [==============================] - 18s 12ms/sample - loss: 0.2335 - val_loss: 0.2442\n",
      "Epoch 50/60\n",
      "1581/1581 [==============================] - 18s 12ms/sample - loss: 0.2339 - val_loss: 0.2442\n",
      "Epoch 51/60\n",
      "1581/1581 [==============================] - 18s 12ms/sample - loss: 0.2337 - val_loss: 0.2441\n",
      "Epoch 52/60\n",
      "1581/1581 [==============================] - 21s 13ms/sample - loss: 0.2333 - val_loss: 0.2441\n",
      "Epoch 53/60\n",
      "1581/1581 [==============================] - 53s 34ms/sample - loss: 0.2339 - val_loss: 0.2441\n",
      "Epoch 54/60\n",
      "1581/1581 [==============================] - 20s 13ms/sample - loss: 0.2334 - val_loss: 0.2441\n",
      "Epoch 55/60\n",
      "1581/1581 [==============================] - 18s 12ms/sample - loss: 0.2334 - val_loss: 0.2441\n",
      "Epoch 56/60\n",
      "1581/1581 [==============================] - 18s 12ms/sample - loss: 0.2335 - val_loss: 0.2441\n",
      "Epoch 57/60\n",
      "1581/1581 [==============================] - 19s 12ms/sample - loss: 0.2331 - val_loss: 0.2441\n",
      "Epoch 58/60\n",
      "1581/1581 [==============================] - 35s 22ms/sample - loss: 0.2334 - val_loss: 0.2441\n",
      "Epoch 59/60\n",
      "1581/1581 [==============================] - 44s 28ms/sample - loss: 0.2336 - val_loss: 0.2441\n",
      "Epoch 60/60\n",
      "1581/1581 [==============================] - 18s 12ms/sample - loss: 0.2334 - val_loss: 0.2441\n",
      "Wall time: 28min 55s\n"
     ]
    }
   ],
   "source": [
    "%%time\n",
    "\n",
    "x_train, x_val, y_train, y_val = train_test_split(train_inputs, train_labels, \n",
    "                                                  test_size=.2, random_state=0)\n",
    "\n",
    "model = build_model(68, 68, train_inputs.shape[-1])\n",
    "\n",
    "history = model.fit(\n",
    "    x_train, y_train,\n",
    "    validation_data=(x_val, y_val),\n",
    "    batch_size=100,\n",
    "    epochs=60,\n",
    "    callbacks=[\n",
    "        tf.keras.callbacks.ReduceLROnPlateau(monitor='val_loss',patience=2),\n",
    "        tf.keras.callbacks.ModelCheckpoint('model.h5')\n",
    "    ]\n",
    ")"
   ]
  },
  {
   "cell_type": "code",
   "execution_count": 38,
   "metadata": {},
   "outputs": [
    {
     "data": {
      "application/vnd.plotly.v1+json": {
       "config": {
        "plotlyServerURL": "https://plot.ly"
       },
       "data": [
        {
         "hovertemplate": "variable=loss<br>epoch=%{x}<br>MCRMSE=%{y}<extra></extra>",
         "legendgroup": "loss",
         "line": {
          "color": "#636efa",
          "dash": "solid"
         },
         "mode": "lines",
         "name": "loss",
         "orientation": "v",
         "showlegend": true,
         "type": "scatter",
         "x": [
          0,
          1,
          2,
          3,
          4,
          5,
          6,
          7,
          8,
          9,
          10,
          11,
          12,
          13,
          14,
          15,
          16,
          17,
          18,
          19,
          20,
          21,
          22,
          23,
          24,
          25,
          26,
          27,
          28,
          29,
          30,
          31,
          32,
          33,
          34,
          35,
          36,
          37,
          38,
          39,
          40,
          41,
          42,
          43,
          44,
          45,
          46,
          47,
          48,
          49,
          50,
          51,
          52,
          53,
          54,
          55,
          56,
          57,
          58,
          59
         ],
         "xaxis": "x",
         "y": [
          0.6537027851001588,
          0.45774128699438393,
          0.41003147157817454,
          0.39213110437730986,
          0.3831403498254495,
          0.37767630591187423,
          0.3717323270385436,
          0.36215677097731946,
          0.3548545987073716,
          0.3544523298627285,
          0.3513268853839932,
          0.34573834870602044,
          0.3432678847581356,
          0.3402859381600922,
          0.33826545504811895,
          0.33281984384266505,
          0.32998156779405063,
          0.3267322954386567,
          0.32229604517863114,
          0.31541801254859386,
          0.31119378255108804,
          0.30604565758104946,
          0.30219206598497206,
          0.2963610933333692,
          0.2919469551901362,
          0.2877680834224901,
          0.284170461032754,
          0.2803623457259577,
          0.27539206393755816,
          0.2716309973742674,
          0.26828758854944446,
          0.26651060852651576,
          0.26277220746823915,
          0.25946741587447636,
          0.2564272278852662,
          0.2533859565882348,
          0.25009632333971743,
          0.24725817819700296,
          0.24645790407772233,
          0.24132830618040083,
          0.2375358308816846,
          0.23701793860212902,
          0.23632111329205951,
          0.23565104638640447,
          0.23508458360699744,
          0.23493373043396892,
          0.23441623071188566,
          0.23373697693403728,
          0.2335042596466552,
          0.2339132714693792,
          0.23365258129053218,
          0.2333033483553204,
          0.23389390503998272,
          0.2334445876686125,
          0.23344528988936822,
          0.23350199479268066,
          0.23307311765797753,
          0.2334129416739013,
          0.23358072522393816,
          0.2334091755161551
         ],
         "yaxis": "y"
        },
        {
         "hovertemplate": "variable=val_loss<br>epoch=%{x}<br>MCRMSE=%{y}<extra></extra>",
         "legendgroup": "val_loss",
         "line": {
          "color": "#EF553B",
          "dash": "solid"
         },
         "mode": "lines",
         "name": "val_loss",
         "orientation": "v",
         "showlegend": true,
         "type": "scatter",
         "x": [
          0,
          1,
          2,
          3,
          4,
          5,
          6,
          7,
          8,
          9,
          10,
          11,
          12,
          13,
          14,
          15,
          16,
          17,
          18,
          19,
          20,
          21,
          22,
          23,
          24,
          25,
          26,
          27,
          28,
          29,
          30,
          31,
          32,
          33,
          34,
          35,
          36,
          37,
          38,
          39,
          40,
          41,
          42,
          43,
          44,
          45,
          46,
          47,
          48,
          49,
          50,
          51,
          52,
          53,
          54,
          55,
          56,
          57,
          58,
          59
         ],
         "xaxis": "x",
         "y": [
          0.4561277757389377,
          0.39321520834258106,
          0.37724323525573267,
          0.37015710033551613,
          0.3624203590431599,
          0.3585246190278217,
          0.35395516379915104,
          0.3464595353362536,
          0.3434903859490096,
          0.3449754525314678,
          0.33667331723251726,
          0.33321867115569836,
          0.3325415542631438,
          0.32974852696813717,
          0.3271456110959101,
          0.32431250088142627,
          0.31814104348722133,
          0.32126436149231113,
          0.30930654358382176,
          0.304499456677774,
          0.30334085858229437,
          0.29347169760501746,
          0.2909692068292637,
          0.2837512857384152,
          0.28201464962477635,
          0.2785208857420719,
          0.2761271990308858,
          0.2718470876265054,
          0.2686186026443135,
          0.2664273570884358,
          0.26563437267987416,
          0.2658964521957166,
          0.2604186571005619,
          0.2563531952674943,
          0.2550689212300561,
          0.25378138263418215,
          0.25066237738638214,
          0.25151166861707513,
          0.25173445753376894,
          0.2477454821569751,
          0.24621129442345013,
          0.24501130692284517,
          0.24495018506893004,
          0.24468243076945795,
          0.24348981919312718,
          0.2447184580143052,
          0.24381393058733505,
          0.2439314986419196,
          0.2442438125309318,
          0.24422671051338465,
          0.24412590430842507,
          0.244118485938419,
          0.2441122087866369,
          0.24411139644757665,
          0.2441108330632701,
          0.24411081831262568,
          0.24411081831262568,
          0.24411081831262568,
          0.24411081831262568,
          0.24411081831262568
         ],
         "yaxis": "y"
        }
       ],
       "layout": {
        "legend": {
         "title": {
          "text": "variable"
         },
         "tracegroupgap": 0
        },
        "template": {
         "data": {
          "bar": [
           {
            "error_x": {
             "color": "#2a3f5f"
            },
            "error_y": {
             "color": "#2a3f5f"
            },
            "marker": {
             "line": {
              "color": "#E5ECF6",
              "width": 0.5
             }
            },
            "type": "bar"
           }
          ],
          "barpolar": [
           {
            "marker": {
             "line": {
              "color": "#E5ECF6",
              "width": 0.5
             }
            },
            "type": "barpolar"
           }
          ],
          "carpet": [
           {
            "aaxis": {
             "endlinecolor": "#2a3f5f",
             "gridcolor": "white",
             "linecolor": "white",
             "minorgridcolor": "white",
             "startlinecolor": "#2a3f5f"
            },
            "baxis": {
             "endlinecolor": "#2a3f5f",
             "gridcolor": "white",
             "linecolor": "white",
             "minorgridcolor": "white",
             "startlinecolor": "#2a3f5f"
            },
            "type": "carpet"
           }
          ],
          "choropleth": [
           {
            "colorbar": {
             "outlinewidth": 0,
             "ticks": ""
            },
            "type": "choropleth"
           }
          ],
          "contour": [
           {
            "colorbar": {
             "outlinewidth": 0,
             "ticks": ""
            },
            "colorscale": [
             [
              0,
              "#0d0887"
             ],
             [
              0.1111111111111111,
              "#46039f"
             ],
             [
              0.2222222222222222,
              "#7201a8"
             ],
             [
              0.3333333333333333,
              "#9c179e"
             ],
             [
              0.4444444444444444,
              "#bd3786"
             ],
             [
              0.5555555555555556,
              "#d8576b"
             ],
             [
              0.6666666666666666,
              "#ed7953"
             ],
             [
              0.7777777777777778,
              "#fb9f3a"
             ],
             [
              0.8888888888888888,
              "#fdca26"
             ],
             [
              1,
              "#f0f921"
             ]
            ],
            "type": "contour"
           }
          ],
          "contourcarpet": [
           {
            "colorbar": {
             "outlinewidth": 0,
             "ticks": ""
            },
            "type": "contourcarpet"
           }
          ],
          "heatmap": [
           {
            "colorbar": {
             "outlinewidth": 0,
             "ticks": ""
            },
            "colorscale": [
             [
              0,
              "#0d0887"
             ],
             [
              0.1111111111111111,
              "#46039f"
             ],
             [
              0.2222222222222222,
              "#7201a8"
             ],
             [
              0.3333333333333333,
              "#9c179e"
             ],
             [
              0.4444444444444444,
              "#bd3786"
             ],
             [
              0.5555555555555556,
              "#d8576b"
             ],
             [
              0.6666666666666666,
              "#ed7953"
             ],
             [
              0.7777777777777778,
              "#fb9f3a"
             ],
             [
              0.8888888888888888,
              "#fdca26"
             ],
             [
              1,
              "#f0f921"
             ]
            ],
            "type": "heatmap"
           }
          ],
          "heatmapgl": [
           {
            "colorbar": {
             "outlinewidth": 0,
             "ticks": ""
            },
            "colorscale": [
             [
              0,
              "#0d0887"
             ],
             [
              0.1111111111111111,
              "#46039f"
             ],
             [
              0.2222222222222222,
              "#7201a8"
             ],
             [
              0.3333333333333333,
              "#9c179e"
             ],
             [
              0.4444444444444444,
              "#bd3786"
             ],
             [
              0.5555555555555556,
              "#d8576b"
             ],
             [
              0.6666666666666666,
              "#ed7953"
             ],
             [
              0.7777777777777778,
              "#fb9f3a"
             ],
             [
              0.8888888888888888,
              "#fdca26"
             ],
             [
              1,
              "#f0f921"
             ]
            ],
            "type": "heatmapgl"
           }
          ],
          "histogram": [
           {
            "marker": {
             "colorbar": {
              "outlinewidth": 0,
              "ticks": ""
             }
            },
            "type": "histogram"
           }
          ],
          "histogram2d": [
           {
            "colorbar": {
             "outlinewidth": 0,
             "ticks": ""
            },
            "colorscale": [
             [
              0,
              "#0d0887"
             ],
             [
              0.1111111111111111,
              "#46039f"
             ],
             [
              0.2222222222222222,
              "#7201a8"
             ],
             [
              0.3333333333333333,
              "#9c179e"
             ],
             [
              0.4444444444444444,
              "#bd3786"
             ],
             [
              0.5555555555555556,
              "#d8576b"
             ],
             [
              0.6666666666666666,
              "#ed7953"
             ],
             [
              0.7777777777777778,
              "#fb9f3a"
             ],
             [
              0.8888888888888888,
              "#fdca26"
             ],
             [
              1,
              "#f0f921"
             ]
            ],
            "type": "histogram2d"
           }
          ],
          "histogram2dcontour": [
           {
            "colorbar": {
             "outlinewidth": 0,
             "ticks": ""
            },
            "colorscale": [
             [
              0,
              "#0d0887"
             ],
             [
              0.1111111111111111,
              "#46039f"
             ],
             [
              0.2222222222222222,
              "#7201a8"
             ],
             [
              0.3333333333333333,
              "#9c179e"
             ],
             [
              0.4444444444444444,
              "#bd3786"
             ],
             [
              0.5555555555555556,
              "#d8576b"
             ],
             [
              0.6666666666666666,
              "#ed7953"
             ],
             [
              0.7777777777777778,
              "#fb9f3a"
             ],
             [
              0.8888888888888888,
              "#fdca26"
             ],
             [
              1,
              "#f0f921"
             ]
            ],
            "type": "histogram2dcontour"
           }
          ],
          "mesh3d": [
           {
            "colorbar": {
             "outlinewidth": 0,
             "ticks": ""
            },
            "type": "mesh3d"
           }
          ],
          "parcoords": [
           {
            "line": {
             "colorbar": {
              "outlinewidth": 0,
              "ticks": ""
             }
            },
            "type": "parcoords"
           }
          ],
          "pie": [
           {
            "automargin": true,
            "type": "pie"
           }
          ],
          "scatter": [
           {
            "marker": {
             "colorbar": {
              "outlinewidth": 0,
              "ticks": ""
             }
            },
            "type": "scatter"
           }
          ],
          "scatter3d": [
           {
            "line": {
             "colorbar": {
              "outlinewidth": 0,
              "ticks": ""
             }
            },
            "marker": {
             "colorbar": {
              "outlinewidth": 0,
              "ticks": ""
             }
            },
            "type": "scatter3d"
           }
          ],
          "scattercarpet": [
           {
            "marker": {
             "colorbar": {
              "outlinewidth": 0,
              "ticks": ""
             }
            },
            "type": "scattercarpet"
           }
          ],
          "scattergeo": [
           {
            "marker": {
             "colorbar": {
              "outlinewidth": 0,
              "ticks": ""
             }
            },
            "type": "scattergeo"
           }
          ],
          "scattergl": [
           {
            "marker": {
             "colorbar": {
              "outlinewidth": 0,
              "ticks": ""
             }
            },
            "type": "scattergl"
           }
          ],
          "scattermapbox": [
           {
            "marker": {
             "colorbar": {
              "outlinewidth": 0,
              "ticks": ""
             }
            },
            "type": "scattermapbox"
           }
          ],
          "scatterpolar": [
           {
            "marker": {
             "colorbar": {
              "outlinewidth": 0,
              "ticks": ""
             }
            },
            "type": "scatterpolar"
           }
          ],
          "scatterpolargl": [
           {
            "marker": {
             "colorbar": {
              "outlinewidth": 0,
              "ticks": ""
             }
            },
            "type": "scatterpolargl"
           }
          ],
          "scatterternary": [
           {
            "marker": {
             "colorbar": {
              "outlinewidth": 0,
              "ticks": ""
             }
            },
            "type": "scatterternary"
           }
          ],
          "surface": [
           {
            "colorbar": {
             "outlinewidth": 0,
             "ticks": ""
            },
            "colorscale": [
             [
              0,
              "#0d0887"
             ],
             [
              0.1111111111111111,
              "#46039f"
             ],
             [
              0.2222222222222222,
              "#7201a8"
             ],
             [
              0.3333333333333333,
              "#9c179e"
             ],
             [
              0.4444444444444444,
              "#bd3786"
             ],
             [
              0.5555555555555556,
              "#d8576b"
             ],
             [
              0.6666666666666666,
              "#ed7953"
             ],
             [
              0.7777777777777778,
              "#fb9f3a"
             ],
             [
              0.8888888888888888,
              "#fdca26"
             ],
             [
              1,
              "#f0f921"
             ]
            ],
            "type": "surface"
           }
          ],
          "table": [
           {
            "cells": {
             "fill": {
              "color": "#EBF0F8"
             },
             "line": {
              "color": "white"
             }
            },
            "header": {
             "fill": {
              "color": "#C8D4E3"
             },
             "line": {
              "color": "white"
             }
            },
            "type": "table"
           }
          ]
         },
         "layout": {
          "annotationdefaults": {
           "arrowcolor": "#2a3f5f",
           "arrowhead": 0,
           "arrowwidth": 1
          },
          "coloraxis": {
           "colorbar": {
            "outlinewidth": 0,
            "ticks": ""
           }
          },
          "colorscale": {
           "diverging": [
            [
             0,
             "#8e0152"
            ],
            [
             0.1,
             "#c51b7d"
            ],
            [
             0.2,
             "#de77ae"
            ],
            [
             0.3,
             "#f1b6da"
            ],
            [
             0.4,
             "#fde0ef"
            ],
            [
             0.5,
             "#f7f7f7"
            ],
            [
             0.6,
             "#e6f5d0"
            ],
            [
             0.7,
             "#b8e186"
            ],
            [
             0.8,
             "#7fbc41"
            ],
            [
             0.9,
             "#4d9221"
            ],
            [
             1,
             "#276419"
            ]
           ],
           "sequential": [
            [
             0,
             "#0d0887"
            ],
            [
             0.1111111111111111,
             "#46039f"
            ],
            [
             0.2222222222222222,
             "#7201a8"
            ],
            [
             0.3333333333333333,
             "#9c179e"
            ],
            [
             0.4444444444444444,
             "#bd3786"
            ],
            [
             0.5555555555555556,
             "#d8576b"
            ],
            [
             0.6666666666666666,
             "#ed7953"
            ],
            [
             0.7777777777777778,
             "#fb9f3a"
            ],
            [
             0.8888888888888888,
             "#fdca26"
            ],
            [
             1,
             "#f0f921"
            ]
           ],
           "sequentialminus": [
            [
             0,
             "#0d0887"
            ],
            [
             0.1111111111111111,
             "#46039f"
            ],
            [
             0.2222222222222222,
             "#7201a8"
            ],
            [
             0.3333333333333333,
             "#9c179e"
            ],
            [
             0.4444444444444444,
             "#bd3786"
            ],
            [
             0.5555555555555556,
             "#d8576b"
            ],
            [
             0.6666666666666666,
             "#ed7953"
            ],
            [
             0.7777777777777778,
             "#fb9f3a"
            ],
            [
             0.8888888888888888,
             "#fdca26"
            ],
            [
             1,
             "#f0f921"
            ]
           ]
          },
          "colorway": [
           "#636efa",
           "#EF553B",
           "#00cc96",
           "#ab63fa",
           "#FFA15A",
           "#19d3f3",
           "#FF6692",
           "#B6E880",
           "#FF97FF",
           "#FECB52"
          ],
          "font": {
           "color": "#2a3f5f"
          },
          "geo": {
           "bgcolor": "white",
           "lakecolor": "white",
           "landcolor": "#E5ECF6",
           "showlakes": true,
           "showland": true,
           "subunitcolor": "white"
          },
          "hoverlabel": {
           "align": "left"
          },
          "hovermode": "closest",
          "mapbox": {
           "style": "light"
          },
          "paper_bgcolor": "white",
          "plot_bgcolor": "#E5ECF6",
          "polar": {
           "angularaxis": {
            "gridcolor": "white",
            "linecolor": "white",
            "ticks": ""
           },
           "bgcolor": "#E5ECF6",
           "radialaxis": {
            "gridcolor": "white",
            "linecolor": "white",
            "ticks": ""
           }
          },
          "scene": {
           "xaxis": {
            "backgroundcolor": "#E5ECF6",
            "gridcolor": "white",
            "gridwidth": 2,
            "linecolor": "white",
            "showbackground": true,
            "ticks": "",
            "zerolinecolor": "white"
           },
           "yaxis": {
            "backgroundcolor": "#E5ECF6",
            "gridcolor": "white",
            "gridwidth": 2,
            "linecolor": "white",
            "showbackground": true,
            "ticks": "",
            "zerolinecolor": "white"
           },
           "zaxis": {
            "backgroundcolor": "#E5ECF6",
            "gridcolor": "white",
            "gridwidth": 2,
            "linecolor": "white",
            "showbackground": true,
            "ticks": "",
            "zerolinecolor": "white"
           }
          },
          "shapedefaults": {
           "line": {
            "color": "#2a3f5f"
           }
          },
          "ternary": {
           "aaxis": {
            "gridcolor": "white",
            "linecolor": "white",
            "ticks": ""
           },
           "baxis": {
            "gridcolor": "white",
            "linecolor": "white",
            "ticks": ""
           },
           "bgcolor": "#E5ECF6",
           "caxis": {
            "gridcolor": "white",
            "linecolor": "white",
            "ticks": ""
           }
          },
          "title": {
           "x": 0.05
          },
          "xaxis": {
           "automargin": true,
           "gridcolor": "white",
           "linecolor": "white",
           "ticks": "",
           "title": {
            "standoff": 15
           },
           "zerolinecolor": "white",
           "zerolinewidth": 2
          },
          "yaxis": {
           "automargin": true,
           "gridcolor": "white",
           "linecolor": "white",
           "ticks": "",
           "title": {
            "standoff": 15
           },
           "zerolinecolor": "white",
           "zerolinewidth": 2
          }
         }
        },
        "title": {
         "text": "Training History"
        },
        "xaxis": {
         "anchor": "y",
         "domain": [
          0,
          1
         ],
         "title": {
          "text": "epoch"
         }
        },
        "yaxis": {
         "anchor": "x",
         "domain": [
          0,
          1
         ],
         "title": {
          "text": "MCRMSE"
         }
        }
       }
      },
      "text/html": [
       "<div>                            <div id=\"5cea22b8-0c6e-45d1-aa7d-2f447e799013\" class=\"plotly-graph-div\" style=\"height:525px; width:100%;\"></div>            <script type=\"text/javascript\">                require([\"plotly\"], function(Plotly) {                    window.PLOTLYENV=window.PLOTLYENV || {};                                    if (document.getElementById(\"5cea22b8-0c6e-45d1-aa7d-2f447e799013\")) {                    Plotly.newPlot(                        \"5cea22b8-0c6e-45d1-aa7d-2f447e799013\",                        [{\"hovertemplate\": \"variable=loss<br>epoch=%{x}<br>MCRMSE=%{y}<extra></extra>\", \"legendgroup\": \"loss\", \"line\": {\"color\": \"#636efa\", \"dash\": \"solid\"}, \"mode\": \"lines\", \"name\": \"loss\", \"orientation\": \"v\", \"showlegend\": true, \"type\": \"scatter\", \"x\": [0, 1, 2, 3, 4, 5, 6, 7, 8, 9, 10, 11, 12, 13, 14, 15, 16, 17, 18, 19, 20, 21, 22, 23, 24, 25, 26, 27, 28, 29, 30, 31, 32, 33, 34, 35, 36, 37, 38, 39, 40, 41, 42, 43, 44, 45, 46, 47, 48, 49, 50, 51, 52, 53, 54, 55, 56, 57, 58, 59], \"xaxis\": \"x\", \"y\": [0.6537027851001588, 0.45774128699438393, 0.41003147157817454, 0.39213110437730986, 0.3831403498254495, 0.37767630591187423, 0.3717323270385436, 0.36215677097731946, 0.3548545987073716, 0.3544523298627285, 0.3513268853839932, 0.34573834870602044, 0.3432678847581356, 0.3402859381600922, 0.33826545504811895, 0.33281984384266505, 0.32998156779405063, 0.3267322954386567, 0.32229604517863114, 0.31541801254859386, 0.31119378255108804, 0.30604565758104946, 0.30219206598497206, 0.2963610933333692, 0.2919469551901362, 0.2877680834224901, 0.284170461032754, 0.2803623457259577, 0.27539206393755816, 0.2716309973742674, 0.26828758854944446, 0.26651060852651576, 0.26277220746823915, 0.25946741587447636, 0.2564272278852662, 0.2533859565882348, 0.25009632333971743, 0.24725817819700296, 0.24645790407772233, 0.24132830618040083, 0.2375358308816846, 0.23701793860212902, 0.23632111329205951, 0.23565104638640447, 0.23508458360699744, 0.23493373043396892, 0.23441623071188566, 0.23373697693403728, 0.2335042596466552, 0.2339132714693792, 0.23365258129053218, 0.2333033483553204, 0.23389390503998272, 0.2334445876686125, 0.23344528988936822, 0.23350199479268066, 0.23307311765797753, 0.2334129416739013, 0.23358072522393816, 0.2334091755161551], \"yaxis\": \"y\"}, {\"hovertemplate\": \"variable=val_loss<br>epoch=%{x}<br>MCRMSE=%{y}<extra></extra>\", \"legendgroup\": \"val_loss\", \"line\": {\"color\": \"#EF553B\", \"dash\": \"solid\"}, \"mode\": \"lines\", \"name\": \"val_loss\", \"orientation\": \"v\", \"showlegend\": true, \"type\": \"scatter\", \"x\": [0, 1, 2, 3, 4, 5, 6, 7, 8, 9, 10, 11, 12, 13, 14, 15, 16, 17, 18, 19, 20, 21, 22, 23, 24, 25, 26, 27, 28, 29, 30, 31, 32, 33, 34, 35, 36, 37, 38, 39, 40, 41, 42, 43, 44, 45, 46, 47, 48, 49, 50, 51, 52, 53, 54, 55, 56, 57, 58, 59], \"xaxis\": \"x\", \"y\": [0.4561277757389377, 0.39321520834258106, 0.37724323525573267, 0.37015710033551613, 0.3624203590431599, 0.3585246190278217, 0.35395516379915104, 0.3464595353362536, 0.3434903859490096, 0.3449754525314678, 0.33667331723251726, 0.33321867115569836, 0.3325415542631438, 0.32974852696813717, 0.3271456110959101, 0.32431250088142627, 0.31814104348722133, 0.32126436149231113, 0.30930654358382176, 0.304499456677774, 0.30334085858229437, 0.29347169760501746, 0.2909692068292637, 0.2837512857384152, 0.28201464962477635, 0.2785208857420719, 0.2761271990308858, 0.2718470876265054, 0.2686186026443135, 0.2664273570884358, 0.26563437267987416, 0.2658964521957166, 0.2604186571005619, 0.2563531952674943, 0.2550689212300561, 0.25378138263418215, 0.25066237738638214, 0.25151166861707513, 0.25173445753376894, 0.2477454821569751, 0.24621129442345013, 0.24501130692284517, 0.24495018506893004, 0.24468243076945795, 0.24348981919312718, 0.2447184580143052, 0.24381393058733505, 0.2439314986419196, 0.2442438125309318, 0.24422671051338465, 0.24412590430842507, 0.244118485938419, 0.2441122087866369, 0.24411139644757665, 0.2441108330632701, 0.24411081831262568, 0.24411081831262568, 0.24411081831262568, 0.24411081831262568, 0.24411081831262568], \"yaxis\": \"y\"}],                        {\"legend\": {\"title\": {\"text\": \"variable\"}, \"tracegroupgap\": 0}, \"template\": {\"data\": {\"bar\": [{\"error_x\": {\"color\": \"#2a3f5f\"}, \"error_y\": {\"color\": \"#2a3f5f\"}, \"marker\": {\"line\": {\"color\": \"#E5ECF6\", \"width\": 0.5}}, \"type\": \"bar\"}], \"barpolar\": [{\"marker\": {\"line\": {\"color\": \"#E5ECF6\", \"width\": 0.5}}, \"type\": \"barpolar\"}], \"carpet\": [{\"aaxis\": {\"endlinecolor\": \"#2a3f5f\", \"gridcolor\": \"white\", \"linecolor\": \"white\", \"minorgridcolor\": \"white\", \"startlinecolor\": \"#2a3f5f\"}, \"baxis\": {\"endlinecolor\": \"#2a3f5f\", \"gridcolor\": \"white\", \"linecolor\": \"white\", \"minorgridcolor\": \"white\", \"startlinecolor\": \"#2a3f5f\"}, \"type\": \"carpet\"}], \"choropleth\": [{\"colorbar\": {\"outlinewidth\": 0, \"ticks\": \"\"}, \"type\": \"choropleth\"}], \"contour\": [{\"colorbar\": {\"outlinewidth\": 0, \"ticks\": \"\"}, \"colorscale\": [[0.0, \"#0d0887\"], [0.1111111111111111, \"#46039f\"], [0.2222222222222222, \"#7201a8\"], [0.3333333333333333, \"#9c179e\"], [0.4444444444444444, \"#bd3786\"], [0.5555555555555556, \"#d8576b\"], [0.6666666666666666, \"#ed7953\"], [0.7777777777777778, \"#fb9f3a\"], [0.8888888888888888, \"#fdca26\"], [1.0, \"#f0f921\"]], \"type\": \"contour\"}], \"contourcarpet\": [{\"colorbar\": {\"outlinewidth\": 0, \"ticks\": \"\"}, \"type\": \"contourcarpet\"}], \"heatmap\": [{\"colorbar\": {\"outlinewidth\": 0, \"ticks\": \"\"}, \"colorscale\": [[0.0, \"#0d0887\"], [0.1111111111111111, \"#46039f\"], [0.2222222222222222, \"#7201a8\"], [0.3333333333333333, \"#9c179e\"], [0.4444444444444444, \"#bd3786\"], [0.5555555555555556, \"#d8576b\"], [0.6666666666666666, \"#ed7953\"], [0.7777777777777778, \"#fb9f3a\"], [0.8888888888888888, \"#fdca26\"], [1.0, \"#f0f921\"]], \"type\": \"heatmap\"}], \"heatmapgl\": [{\"colorbar\": {\"outlinewidth\": 0, \"ticks\": \"\"}, \"colorscale\": [[0.0, \"#0d0887\"], [0.1111111111111111, \"#46039f\"], [0.2222222222222222, \"#7201a8\"], [0.3333333333333333, \"#9c179e\"], [0.4444444444444444, \"#bd3786\"], [0.5555555555555556, \"#d8576b\"], [0.6666666666666666, \"#ed7953\"], [0.7777777777777778, \"#fb9f3a\"], [0.8888888888888888, \"#fdca26\"], [1.0, \"#f0f921\"]], \"type\": \"heatmapgl\"}], \"histogram\": [{\"marker\": {\"colorbar\": {\"outlinewidth\": 0, \"ticks\": \"\"}}, \"type\": \"histogram\"}], \"histogram2d\": [{\"colorbar\": {\"outlinewidth\": 0, \"ticks\": \"\"}, \"colorscale\": [[0.0, \"#0d0887\"], [0.1111111111111111, \"#46039f\"], [0.2222222222222222, \"#7201a8\"], [0.3333333333333333, \"#9c179e\"], [0.4444444444444444, \"#bd3786\"], [0.5555555555555556, \"#d8576b\"], [0.6666666666666666, \"#ed7953\"], [0.7777777777777778, \"#fb9f3a\"], [0.8888888888888888, \"#fdca26\"], [1.0, \"#f0f921\"]], \"type\": \"histogram2d\"}], \"histogram2dcontour\": [{\"colorbar\": {\"outlinewidth\": 0, \"ticks\": \"\"}, \"colorscale\": [[0.0, \"#0d0887\"], [0.1111111111111111, \"#46039f\"], [0.2222222222222222, \"#7201a8\"], [0.3333333333333333, \"#9c179e\"], [0.4444444444444444, \"#bd3786\"], [0.5555555555555556, \"#d8576b\"], [0.6666666666666666, \"#ed7953\"], [0.7777777777777778, \"#fb9f3a\"], [0.8888888888888888, \"#fdca26\"], [1.0, \"#f0f921\"]], \"type\": \"histogram2dcontour\"}], \"mesh3d\": [{\"colorbar\": {\"outlinewidth\": 0, \"ticks\": \"\"}, \"type\": \"mesh3d\"}], \"parcoords\": [{\"line\": {\"colorbar\": {\"outlinewidth\": 0, \"ticks\": \"\"}}, \"type\": \"parcoords\"}], \"pie\": [{\"automargin\": true, \"type\": \"pie\"}], \"scatter\": [{\"marker\": {\"colorbar\": {\"outlinewidth\": 0, \"ticks\": \"\"}}, \"type\": \"scatter\"}], \"scatter3d\": [{\"line\": {\"colorbar\": {\"outlinewidth\": 0, \"ticks\": \"\"}}, \"marker\": {\"colorbar\": {\"outlinewidth\": 0, \"ticks\": \"\"}}, \"type\": \"scatter3d\"}], \"scattercarpet\": [{\"marker\": {\"colorbar\": {\"outlinewidth\": 0, \"ticks\": \"\"}}, \"type\": \"scattercarpet\"}], \"scattergeo\": [{\"marker\": {\"colorbar\": {\"outlinewidth\": 0, \"ticks\": \"\"}}, \"type\": \"scattergeo\"}], \"scattergl\": [{\"marker\": {\"colorbar\": {\"outlinewidth\": 0, \"ticks\": \"\"}}, \"type\": \"scattergl\"}], \"scattermapbox\": [{\"marker\": {\"colorbar\": {\"outlinewidth\": 0, \"ticks\": \"\"}}, \"type\": \"scattermapbox\"}], \"scatterpolar\": [{\"marker\": {\"colorbar\": {\"outlinewidth\": 0, \"ticks\": \"\"}}, \"type\": \"scatterpolar\"}], \"scatterpolargl\": [{\"marker\": {\"colorbar\": {\"outlinewidth\": 0, \"ticks\": \"\"}}, \"type\": \"scatterpolargl\"}], \"scatterternary\": [{\"marker\": {\"colorbar\": {\"outlinewidth\": 0, \"ticks\": \"\"}}, \"type\": \"scatterternary\"}], \"surface\": [{\"colorbar\": {\"outlinewidth\": 0, \"ticks\": \"\"}, \"colorscale\": [[0.0, \"#0d0887\"], [0.1111111111111111, \"#46039f\"], [0.2222222222222222, \"#7201a8\"], [0.3333333333333333, \"#9c179e\"], [0.4444444444444444, \"#bd3786\"], [0.5555555555555556, \"#d8576b\"], [0.6666666666666666, \"#ed7953\"], [0.7777777777777778, \"#fb9f3a\"], [0.8888888888888888, \"#fdca26\"], [1.0, \"#f0f921\"]], \"type\": \"surface\"}], \"table\": [{\"cells\": {\"fill\": {\"color\": \"#EBF0F8\"}, \"line\": {\"color\": \"white\"}}, \"header\": {\"fill\": {\"color\": \"#C8D4E3\"}, \"line\": {\"color\": \"white\"}}, \"type\": \"table\"}]}, \"layout\": {\"annotationdefaults\": {\"arrowcolor\": \"#2a3f5f\", \"arrowhead\": 0, \"arrowwidth\": 1}, \"coloraxis\": {\"colorbar\": {\"outlinewidth\": 0, \"ticks\": \"\"}}, \"colorscale\": {\"diverging\": [[0, \"#8e0152\"], [0.1, \"#c51b7d\"], [0.2, \"#de77ae\"], [0.3, \"#f1b6da\"], [0.4, \"#fde0ef\"], [0.5, \"#f7f7f7\"], [0.6, \"#e6f5d0\"], [0.7, \"#b8e186\"], [0.8, \"#7fbc41\"], [0.9, \"#4d9221\"], [1, \"#276419\"]], \"sequential\": [[0.0, \"#0d0887\"], [0.1111111111111111, \"#46039f\"], [0.2222222222222222, \"#7201a8\"], [0.3333333333333333, \"#9c179e\"], [0.4444444444444444, \"#bd3786\"], [0.5555555555555556, \"#d8576b\"], [0.6666666666666666, \"#ed7953\"], [0.7777777777777778, \"#fb9f3a\"], [0.8888888888888888, \"#fdca26\"], [1.0, \"#f0f921\"]], \"sequentialminus\": [[0.0, \"#0d0887\"], [0.1111111111111111, \"#46039f\"], [0.2222222222222222, \"#7201a8\"], [0.3333333333333333, \"#9c179e\"], [0.4444444444444444, \"#bd3786\"], [0.5555555555555556, \"#d8576b\"], [0.6666666666666666, \"#ed7953\"], [0.7777777777777778, \"#fb9f3a\"], [0.8888888888888888, \"#fdca26\"], [1.0, \"#f0f921\"]]}, \"colorway\": [\"#636efa\", \"#EF553B\", \"#00cc96\", \"#ab63fa\", \"#FFA15A\", \"#19d3f3\", \"#FF6692\", \"#B6E880\", \"#FF97FF\", \"#FECB52\"], \"font\": {\"color\": \"#2a3f5f\"}, \"geo\": {\"bgcolor\": \"white\", \"lakecolor\": \"white\", \"landcolor\": \"#E5ECF6\", \"showlakes\": true, \"showland\": true, \"subunitcolor\": \"white\"}, \"hoverlabel\": {\"align\": \"left\"}, \"hovermode\": \"closest\", \"mapbox\": {\"style\": \"light\"}, \"paper_bgcolor\": \"white\", \"plot_bgcolor\": \"#E5ECF6\", \"polar\": {\"angularaxis\": {\"gridcolor\": \"white\", \"linecolor\": \"white\", \"ticks\": \"\"}, \"bgcolor\": \"#E5ECF6\", \"radialaxis\": {\"gridcolor\": \"white\", \"linecolor\": \"white\", \"ticks\": \"\"}}, \"scene\": {\"xaxis\": {\"backgroundcolor\": \"#E5ECF6\", \"gridcolor\": \"white\", \"gridwidth\": 2, \"linecolor\": \"white\", \"showbackground\": true, \"ticks\": \"\", \"zerolinecolor\": \"white\"}, \"yaxis\": {\"backgroundcolor\": \"#E5ECF6\", \"gridcolor\": \"white\", \"gridwidth\": 2, \"linecolor\": \"white\", \"showbackground\": true, \"ticks\": \"\", \"zerolinecolor\": \"white\"}, \"zaxis\": {\"backgroundcolor\": \"#E5ECF6\", \"gridcolor\": \"white\", \"gridwidth\": 2, \"linecolor\": \"white\", \"showbackground\": true, \"ticks\": \"\", \"zerolinecolor\": \"white\"}}, \"shapedefaults\": {\"line\": {\"color\": \"#2a3f5f\"}}, \"ternary\": {\"aaxis\": {\"gridcolor\": \"white\", \"linecolor\": \"white\", \"ticks\": \"\"}, \"baxis\": {\"gridcolor\": \"white\", \"linecolor\": \"white\", \"ticks\": \"\"}, \"bgcolor\": \"#E5ECF6\", \"caxis\": {\"gridcolor\": \"white\", \"linecolor\": \"white\", \"ticks\": \"\"}}, \"title\": {\"x\": 0.05}, \"xaxis\": {\"automargin\": true, \"gridcolor\": \"white\", \"linecolor\": \"white\", \"ticks\": \"\", \"title\": {\"standoff\": 15}, \"zerolinecolor\": \"white\", \"zerolinewidth\": 2}, \"yaxis\": {\"automargin\": true, \"gridcolor\": \"white\", \"linecolor\": \"white\", \"ticks\": \"\", \"title\": {\"standoff\": 15}, \"zerolinecolor\": \"white\", \"zerolinewidth\": 2}}}, \"title\": {\"text\": \"Training History\"}, \"xaxis\": {\"anchor\": \"y\", \"domain\": [0.0, 1.0], \"title\": {\"text\": \"epoch\"}}, \"yaxis\": {\"anchor\": \"x\", \"domain\": [0.0, 1.0], \"title\": {\"text\": \"MCRMSE\"}}},                        {\"responsive\": true}                    ).then(function(){\n",
       "                            \n",
       "var gd = document.getElementById('5cea22b8-0c6e-45d1-aa7d-2f447e799013');\n",
       "var x = new MutationObserver(function (mutations, observer) {{\n",
       "        var display = window.getComputedStyle(gd).display;\n",
       "        if (!display || display === 'none') {{\n",
       "            console.log([gd, 'removed!']);\n",
       "            Plotly.purge(gd);\n",
       "            observer.disconnect();\n",
       "        }}\n",
       "}});\n",
       "\n",
       "// Listen for the removal of the full notebook cells\n",
       "var notebookContainer = gd.closest('#notebook-container');\n",
       "if (notebookContainer) {{\n",
       "    x.observe(notebookContainer, {childList: true});\n",
       "}}\n",
       "\n",
       "// Listen for the clearing of the current output cell\n",
       "var outputEl = gd.closest('.output');\n",
       "if (outputEl) {{\n",
       "    x.observe(outputEl, {childList: true});\n",
       "}}\n",
       "\n",
       "                        })                };                });            </script>        </div>"
      ]
     },
     "metadata": {},
     "output_type": "display_data"
    }
   ],
   "source": [
    "fig = px.line(\n",
    "    history.history, y=['loss', 'val_loss'],\n",
    "    labels={'index': 'epoch', 'value': 'MCRMSE'}, \n",
    "    title='Training History')\n",
    "\n",
    "fig.show()"
   ]
  },
  {
   "cell_type": "code",
   "execution_count": 39,
   "metadata": {},
   "outputs": [
    {
     "name": "stderr",
     "output_type": "stream",
     "text": [
      "C:\\Users\\ASilva2\\AppData\\Local\\Continuum\\miniconda3\\envs\\covid\\lib\\site-packages\\ipykernel_launcher.py:8: SettingWithCopyWarning:\n",
      "\n",
      "\n",
      "A value is trying to be set on a copy of a slice from a DataFrame.\n",
      "Try using .loc[row_indexer,col_indexer] = value instead\n",
      "\n",
      "See the caveats in the documentation: https://pandas.pydata.org/pandas-docs/stable/user_guide/indexing.html#returning-a-view-versus-a-copy\n",
      "\n",
      "C:\\Users\\ASilva2\\AppData\\Local\\Continuum\\miniconda3\\envs\\covid\\lib\\site-packages\\ipykernel_launcher.py:30: SettingWithCopyWarning:\n",
      "\n",
      "\n",
      "A value is trying to be set on a copy of a slice from a DataFrame.\n",
      "Try using .loc[row_indexer,col_indexer] = value instead\n",
      "\n",
      "See the caveats in the documentation: https://pandas.pydata.org/pandas-docs/stable/user_guide/indexing.html#returning-a-view-versus-a-copy\n",
      "\n",
      "C:\\Users\\ASilva2\\AppData\\Local\\Continuum\\miniconda3\\envs\\covid\\lib\\site-packages\\pandas\\core\\generic.py:5165: SettingWithCopyWarning:\n",
      "\n",
      "\n",
      "A value is trying to be set on a copy of a slice from a DataFrame.\n",
      "Try using .loc[row_indexer,col_indexer] = value instead\n",
      "\n",
      "See the caveats in the documentation: https://pandas.pydata.org/pandas-docs/stable/user_guide/indexing.html#returning-a-view-versus-a-copy\n",
      "\n"
     ]
    }
   ],
   "source": [
    "# Caveat: The prediction format requires the output to be the same length as the input,\n",
    "# although it's not the case for the training data.\n",
    "model_public = build_model(107, 107, train_inputs.shape[-1])\n",
    "model_private = build_model(130, 130, train_inputs.shape[-1])\n",
    "\n",
    "model_public.load_weights('model.h5')\n",
    "model_private.load_weights('model.h5')\n",
    "\n",
    "public_df = test_df.query(\"seq_length == 107\")\n",
    "private_df = test_df.query(\"seq_length == 130\")\n",
    "\n",
    "public_inputs = create_test_input(public_df, 107)\n",
    "private_inputs = create_test_input(private_df, 130)\n",
    "\n",
    "public_preds = model_public.predict(public_inputs)\n",
    "private_preds = model_private.predict(private_inputs)"
   ]
  },
  {
   "cell_type": "code",
   "execution_count": 40,
   "metadata": {},
   "outputs": [],
   "source": [
    "preds_ls = []\n",
    "\n",
    "for df, preds in [(public_df, public_preds), (private_df, private_preds)]:\n",
    "    for i, uid in enumerate(df.id):\n",
    "        single_pred = preds[i]\n",
    "\n",
    "        single_df = pd.DataFrame(single_pred, columns=pred_cols)\n",
    "        single_df['id_seqpos'] = [f'{uid}_{x}' for x in range(single_df.shape[0])]\n",
    "\n",
    "        preds_ls.append(single_df)\n",
    "\n",
    "preds_df = pd.concat(preds_ls)\n",
    "\n",
    "print(preds_df.shape)\n",
    "\n",
    "preds_df.to_csv('./submission_acs.csv', index=False)"
   ]
  },
  {
   "cell_type": "code",
   "execution_count": null,
   "metadata": {},
   "outputs": [],
   "source": []
  }
 ],
 "metadata": {
  "kernelspec": {
   "display_name": "Python 3",
   "language": "python",
   "name": "python3"
  },
  "language_info": {
   "codemirror_mode": {
    "name": "ipython",
    "version": 3
   },
   "file_extension": ".py",
   "mimetype": "text/x-python",
   "name": "python",
   "nbconvert_exporter": "python",
   "pygments_lexer": "ipython3",
   "version": "3.7.9"
  }
 },
 "nbformat": 4,
 "nbformat_minor": 4
}
